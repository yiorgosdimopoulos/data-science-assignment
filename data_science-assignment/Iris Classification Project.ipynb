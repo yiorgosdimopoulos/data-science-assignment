{
 "cells": [
  {
   "cell_type": "markdown",
   "id": "2190788b",
   "metadata": {},
   "source": [
    "# Iris Classification Project"
   ]
  },
  {
   "cell_type": "code",
   "execution_count": 265,
   "id": "a0947ccc",
   "metadata": {},
   "outputs": [],
   "source": [
    "import sklearn as sk\n",
    "import pandas as pd\n",
    "pd.options.mode.chained_assignment = None \n",
    "import numpy as np\n",
    "import matplotlib.pyplot as plt\n",
    "from plotnine import *\n",
    "\n",
    "np.random.seed(42)\n",
    "%matplotlib inline"
   ]
  },
  {
   "cell_type": "markdown",
   "id": "5473e97f",
   "metadata": {},
   "source": [
    "## 1. Dataset Loading and Preprocessing"
   ]
  },
  {
   "cell_type": "code",
   "execution_count": 266,
   "id": "5fd24e2b",
   "metadata": {},
   "outputs": [
    {
     "data": {
      "text/html": [
       "<div>\n",
       "<style scoped>\n",
       "    .dataframe tbody tr th:only-of-type {\n",
       "        vertical-align: middle;\n",
       "    }\n",
       "\n",
       "    .dataframe tbody tr th {\n",
       "        vertical-align: top;\n",
       "    }\n",
       "\n",
       "    .dataframe thead th {\n",
       "        text-align: right;\n",
       "    }\n",
       "</style>\n",
       "<table border=\"1\" class=\"dataframe\">\n",
       "  <thead>\n",
       "    <tr style=\"text-align: right;\">\n",
       "      <th></th>\n",
       "      <th>sepal_length</th>\n",
       "      <th>sepal_width</th>\n",
       "      <th>petal_length</th>\n",
       "      <th>petal_width</th>\n",
       "      <th>species</th>\n",
       "    </tr>\n",
       "  </thead>\n",
       "  <tbody>\n",
       "    <tr>\n",
       "      <th>0</th>\n",
       "      <td>5.1</td>\n",
       "      <td>3.5</td>\n",
       "      <td>1.4</td>\n",
       "      <td>0.2</td>\n",
       "      <td>Iris-setosa</td>\n",
       "    </tr>\n",
       "    <tr>\n",
       "      <th>1</th>\n",
       "      <td>4.9</td>\n",
       "      <td>3.0</td>\n",
       "      <td>1.4</td>\n",
       "      <td>0.2</td>\n",
       "      <td>Iris-setosa</td>\n",
       "    </tr>\n",
       "    <tr>\n",
       "      <th>2</th>\n",
       "      <td>4.7</td>\n",
       "      <td>3.2</td>\n",
       "      <td>1.3</td>\n",
       "      <td>0.2</td>\n",
       "      <td>Iris-setosa</td>\n",
       "    </tr>\n",
       "    <tr>\n",
       "      <th>3</th>\n",
       "      <td>4.6</td>\n",
       "      <td>3.1</td>\n",
       "      <td>1.5</td>\n",
       "      <td>0.2</td>\n",
       "      <td>Iris-setosa</td>\n",
       "    </tr>\n",
       "    <tr>\n",
       "      <th>4</th>\n",
       "      <td>5.0</td>\n",
       "      <td>3.6</td>\n",
       "      <td>1.4</td>\n",
       "      <td>0.2</td>\n",
       "      <td>Iris-setosa</td>\n",
       "    </tr>\n",
       "    <tr>\n",
       "      <th>...</th>\n",
       "      <td>...</td>\n",
       "      <td>...</td>\n",
       "      <td>...</td>\n",
       "      <td>...</td>\n",
       "      <td>...</td>\n",
       "    </tr>\n",
       "    <tr>\n",
       "      <th>145</th>\n",
       "      <td>6.7</td>\n",
       "      <td>3.0</td>\n",
       "      <td>5.2</td>\n",
       "      <td>2.3</td>\n",
       "      <td>Iris-virginica</td>\n",
       "    </tr>\n",
       "    <tr>\n",
       "      <th>146</th>\n",
       "      <td>6.3</td>\n",
       "      <td>2.5</td>\n",
       "      <td>5.0</td>\n",
       "      <td>1.9</td>\n",
       "      <td>Iris-virginica</td>\n",
       "    </tr>\n",
       "    <tr>\n",
       "      <th>147</th>\n",
       "      <td>6.5</td>\n",
       "      <td>3.0</td>\n",
       "      <td>5.2</td>\n",
       "      <td>2.0</td>\n",
       "      <td>Iris-virginica</td>\n",
       "    </tr>\n",
       "    <tr>\n",
       "      <th>148</th>\n",
       "      <td>6.2</td>\n",
       "      <td>3.4</td>\n",
       "      <td>5.4</td>\n",
       "      <td>2.3</td>\n",
       "      <td>Iris-virginica</td>\n",
       "    </tr>\n",
       "    <tr>\n",
       "      <th>149</th>\n",
       "      <td>5.9</td>\n",
       "      <td>3.0</td>\n",
       "      <td>5.1</td>\n",
       "      <td>1.8</td>\n",
       "      <td>Iris-virginica</td>\n",
       "    </tr>\n",
       "  </tbody>\n",
       "</table>\n",
       "<p>150 rows × 5 columns</p>\n",
       "</div>"
      ],
      "text/plain": [
       "     sepal_length  sepal_width  petal_length  petal_width         species\n",
       "0             5.1          3.5           1.4          0.2     Iris-setosa\n",
       "1             4.9          3.0           1.4          0.2     Iris-setosa\n",
       "2             4.7          3.2           1.3          0.2     Iris-setosa\n",
       "3             4.6          3.1           1.5          0.2     Iris-setosa\n",
       "4             5.0          3.6           1.4          0.2     Iris-setosa\n",
       "..            ...          ...           ...          ...             ...\n",
       "145           6.7          3.0           5.2          2.3  Iris-virginica\n",
       "146           6.3          2.5           5.0          1.9  Iris-virginica\n",
       "147           6.5          3.0           5.2          2.0  Iris-virginica\n",
       "148           6.2          3.4           5.4          2.3  Iris-virginica\n",
       "149           5.9          3.0           5.1          1.8  Iris-virginica\n",
       "\n",
       "[150 rows x 5 columns]"
      ]
     },
     "execution_count": 266,
     "metadata": {},
     "output_type": "execute_result"
    }
   ],
   "source": [
    "import pandas as pd\n",
    "\n",
    "url = 'https://github.com/finartix/data-science-assignment/blob/main/iris.data?raw=true'\n",
    "columns = [\n",
    "    'sepal_length',\n",
    "    'sepal_width',\n",
    "    'petal_length',\n",
    "    'petal_width',\n",
    "    'species'\n",
    "]\n",
    "iris_df = pd.read_csv(url, names=columns)\n",
    "iris_df"
   ]
  },
  {
   "cell_type": "markdown",
   "id": "e367fa9c",
   "metadata": {},
   "source": [
    "* First we handle the missing values by removing all rows with NULL values from the DataFrame."
   ]
  },
  {
   "cell_type": "code",
   "execution_count": 267,
   "id": "b4416c18",
   "metadata": {},
   "outputs": [
    {
     "data": {
      "text/html": [
       "<div>\n",
       "<style scoped>\n",
       "    .dataframe tbody tr th:only-of-type {\n",
       "        vertical-align: middle;\n",
       "    }\n",
       "\n",
       "    .dataframe tbody tr th {\n",
       "        vertical-align: top;\n",
       "    }\n",
       "\n",
       "    .dataframe thead th {\n",
       "        text-align: right;\n",
       "    }\n",
       "</style>\n",
       "<table border=\"1\" class=\"dataframe\">\n",
       "  <thead>\n",
       "    <tr style=\"text-align: right;\">\n",
       "      <th></th>\n",
       "      <th>sepal_length</th>\n",
       "      <th>sepal_width</th>\n",
       "      <th>petal_length</th>\n",
       "      <th>petal_width</th>\n",
       "      <th>species</th>\n",
       "    </tr>\n",
       "  </thead>\n",
       "  <tbody>\n",
       "    <tr>\n",
       "      <th>0</th>\n",
       "      <td>5.1</td>\n",
       "      <td>3.5</td>\n",
       "      <td>1.4</td>\n",
       "      <td>0.2</td>\n",
       "      <td>Iris-setosa</td>\n",
       "    </tr>\n",
       "    <tr>\n",
       "      <th>1</th>\n",
       "      <td>4.9</td>\n",
       "      <td>3.0</td>\n",
       "      <td>1.4</td>\n",
       "      <td>0.2</td>\n",
       "      <td>Iris-setosa</td>\n",
       "    </tr>\n",
       "    <tr>\n",
       "      <th>2</th>\n",
       "      <td>4.7</td>\n",
       "      <td>3.2</td>\n",
       "      <td>1.3</td>\n",
       "      <td>0.2</td>\n",
       "      <td>Iris-setosa</td>\n",
       "    </tr>\n",
       "    <tr>\n",
       "      <th>3</th>\n",
       "      <td>4.6</td>\n",
       "      <td>3.1</td>\n",
       "      <td>1.5</td>\n",
       "      <td>0.2</td>\n",
       "      <td>Iris-setosa</td>\n",
       "    </tr>\n",
       "    <tr>\n",
       "      <th>4</th>\n",
       "      <td>5.0</td>\n",
       "      <td>3.6</td>\n",
       "      <td>1.4</td>\n",
       "      <td>0.2</td>\n",
       "      <td>Iris-setosa</td>\n",
       "    </tr>\n",
       "    <tr>\n",
       "      <th>...</th>\n",
       "      <td>...</td>\n",
       "      <td>...</td>\n",
       "      <td>...</td>\n",
       "      <td>...</td>\n",
       "      <td>...</td>\n",
       "    </tr>\n",
       "    <tr>\n",
       "      <th>145</th>\n",
       "      <td>6.7</td>\n",
       "      <td>3.0</td>\n",
       "      <td>5.2</td>\n",
       "      <td>2.3</td>\n",
       "      <td>Iris-virginica</td>\n",
       "    </tr>\n",
       "    <tr>\n",
       "      <th>146</th>\n",
       "      <td>6.3</td>\n",
       "      <td>2.5</td>\n",
       "      <td>5.0</td>\n",
       "      <td>1.9</td>\n",
       "      <td>Iris-virginica</td>\n",
       "    </tr>\n",
       "    <tr>\n",
       "      <th>147</th>\n",
       "      <td>6.5</td>\n",
       "      <td>3.0</td>\n",
       "      <td>5.2</td>\n",
       "      <td>2.0</td>\n",
       "      <td>Iris-virginica</td>\n",
       "    </tr>\n",
       "    <tr>\n",
       "      <th>148</th>\n",
       "      <td>6.2</td>\n",
       "      <td>3.4</td>\n",
       "      <td>5.4</td>\n",
       "      <td>2.3</td>\n",
       "      <td>Iris-virginica</td>\n",
       "    </tr>\n",
       "    <tr>\n",
       "      <th>149</th>\n",
       "      <td>5.9</td>\n",
       "      <td>3.0</td>\n",
       "      <td>5.1</td>\n",
       "      <td>1.8</td>\n",
       "      <td>Iris-virginica</td>\n",
       "    </tr>\n",
       "  </tbody>\n",
       "</table>\n",
       "<p>149 rows × 5 columns</p>\n",
       "</div>"
      ],
      "text/plain": [
       "     sepal_length  sepal_width  petal_length  petal_width         species\n",
       "0             5.1          3.5           1.4          0.2     Iris-setosa\n",
       "1             4.9          3.0           1.4          0.2     Iris-setosa\n",
       "2             4.7          3.2           1.3          0.2     Iris-setosa\n",
       "3             4.6          3.1           1.5          0.2     Iris-setosa\n",
       "4             5.0          3.6           1.4          0.2     Iris-setosa\n",
       "..            ...          ...           ...          ...             ...\n",
       "145           6.7          3.0           5.2          2.3  Iris-virginica\n",
       "146           6.3          2.5           5.0          1.9  Iris-virginica\n",
       "147           6.5          3.0           5.2          2.0  Iris-virginica\n",
       "148           6.2          3.4           5.4          2.3  Iris-virginica\n",
       "149           5.9          3.0           5.1          1.8  Iris-virginica\n",
       "\n",
       "[149 rows x 5 columns]"
      ]
     },
     "execution_count": 267,
     "metadata": {},
     "output_type": "execute_result"
    }
   ],
   "source": [
    "iris_df=iris_df.dropna()\n",
    "iris_df"
   ]
  },
  {
   "cell_type": "markdown",
   "id": "49bb3c01",
   "metadata": {},
   "source": [
    "The `species` variable is categorical so we encode it.\n",
    "* Iris-setosa -> 0\n",
    "* Iris-versicolor -> 1\n",
    "* Iris-virginica -> 2"
   ]
  },
  {
   "cell_type": "code",
   "execution_count": 268,
   "id": "8ba069ac",
   "metadata": {},
   "outputs": [
    {
     "data": {
      "text/plain": [
       "array(['Iris-setosa', 'Iris-versicolor', 'Iris-virginica'], dtype=object)"
      ]
     },
     "execution_count": 268,
     "metadata": {},
     "output_type": "execute_result"
    }
   ],
   "source": [
    "iris_df['species'].unique() "
   ]
  },
  {
   "cell_type": "code",
   "execution_count": 269,
   "id": "97936c44",
   "metadata": {},
   "outputs": [
    {
     "data": {
      "text/plain": [
       "array([0, 1, 2])"
      ]
     },
     "execution_count": 269,
     "metadata": {},
     "output_type": "execute_result"
    }
   ],
   "source": [
    "# Import label encoder \n",
    "from sklearn import preprocessing \n",
    "  \n",
    "# label_encoder object knows  \n",
    "# how to understand word labels. \n",
    "label_encoder = preprocessing.LabelEncoder() \n",
    "  \n",
    "# Encode labels in column 'species'. \n",
    "iris_df['species']= label_encoder.fit_transform(iris_df['species'])  \n",
    "\n",
    "iris_df['species'].unique() "
   ]
  },
  {
   "cell_type": "markdown",
   "id": "045db10a",
   "metadata": {},
   "source": [
    "## 2. Visualize the Dataset"
   ]
  },
  {
   "cell_type": "markdown",
   "id": "39597aa3",
   "metadata": {},
   "source": [
    "* Below we create some plots to visualize the dataset and understand its characteristics."
   ]
  },
  {
   "cell_type": "code",
   "execution_count": 270,
   "id": "bc648acf",
   "metadata": {},
   "outputs": [
    {
     "data": {
      "image/png": "[encoded data removed]",
      "text/plain": [
       "<Figure size 640x480 with 1 Axes>"
      ]
     },
     "metadata": {},
     "output_type": "display_data"
    },
    {
     "data": {
      "text/plain": [
       "<ggplot: (8768145243498)>"
      ]
     },
     "execution_count": 270,
     "metadata": {},
     "output_type": "execute_result"
    }
   ],
   "source": [
    "ggplot(data=iris_df) +\\\n",
    "    geom_point(aes(x='sepal_length', y='sepal_width', \n",
    "                   color='factor(species)')) +\\\n",
    "    labs(color='species') +\\\n",
    "    scale_color_manual(labels=['setosa', 'versicolor', 'virginica'], \n",
    "                       values = [\"blue\", \"red\", 'gold'])"
   ]
  },
  {
   "cell_type": "markdown",
   "id": "8b87e1c9",
   "metadata": {},
   "source": [
    "* We can see that with the `petal` variables the segmentation of species is more distinct, so we will use them for our predictions."
   ]
  },
  {
   "cell_type": "code",
   "execution_count": 271,
   "id": "81db3fe8",
   "metadata": {},
   "outputs": [
    {
     "data": {
      "text/plain": [
       "<Figure size 1080x576 with 0 Axes>"
      ]
     },
     "metadata": {},
     "output_type": "display_data"
    },
    {
     "data": {
      "image/png": "[encoded data removed]",
      "text/plain": [
       "<Figure size 769.55x576 with 1 Axes>"
      ]
     },
     "metadata": {
      "needs_background": "light"
     },
     "output_type": "display_data"
    }
   ],
   "source": [
    "import seaborn as sns\n",
    "a4_dims = (11.7, 8.27)\n",
    "plt.figure(figsize=(15,8))\n",
    "g=sns.relplot(x=\"petal_length\", y=\"petal_width\", hue=\"species\", style=\"species\",  data=iris_df, \n",
    "              facet_kws={'legend_out': True}, height = 8, aspect = 1.25)\n",
    "\n",
    "new_labels = ['setosa', 'versicolor', 'virginica']\n",
    "for t, l in zip(g._legend.texts, new_labels):\n",
    "    t.set_text(l)"
   ]
  },
  {
   "cell_type": "markdown",
   "id": "109bda5f",
   "metadata": {},
   "source": [
    "* We'll need to shuffle the data, to improve model learning."
   ]
  },
  {
   "cell_type": "code",
   "execution_count": 272,
   "id": "e634f288",
   "metadata": {},
   "outputs": [
    {
     "data": {
      "text/html": [
       "<div>\n",
       "<style scoped>\n",
       "    .dataframe tbody tr th:only-of-type {\n",
       "        vertical-align: middle;\n",
       "    }\n",
       "\n",
       "    .dataframe tbody tr th {\n",
       "        vertical-align: top;\n",
       "    }\n",
       "\n",
       "    .dataframe thead th {\n",
       "        text-align: right;\n",
       "    }\n",
       "</style>\n",
       "<table border=\"1\" class=\"dataframe\">\n",
       "  <thead>\n",
       "    <tr style=\"text-align: right;\">\n",
       "      <th></th>\n",
       "      <th>sepal_length</th>\n",
       "      <th>sepal_width</th>\n",
       "      <th>petal_length</th>\n",
       "      <th>petal_width</th>\n",
       "      <th>species</th>\n",
       "    </tr>\n",
       "  </thead>\n",
       "  <tbody>\n",
       "    <tr>\n",
       "      <th>73</th>\n",
       "      <td>6.1</td>\n",
       "      <td>2.8</td>\n",
       "      <td>4.7</td>\n",
       "      <td>1.2</td>\n",
       "      <td>1</td>\n",
       "    </tr>\n",
       "    <tr>\n",
       "      <th>18</th>\n",
       "      <td>5.7</td>\n",
       "      <td>3.8</td>\n",
       "      <td>1.7</td>\n",
       "      <td>0.3</td>\n",
       "      <td>0</td>\n",
       "    </tr>\n",
       "    <tr>\n",
       "      <th>118</th>\n",
       "      <td>7.7</td>\n",
       "      <td>2.6</td>\n",
       "      <td>6.9</td>\n",
       "      <td>2.3</td>\n",
       "      <td>2</td>\n",
       "    </tr>\n",
       "    <tr>\n",
       "      <th>78</th>\n",
       "      <td>6.0</td>\n",
       "      <td>2.9</td>\n",
       "      <td>4.5</td>\n",
       "      <td>1.5</td>\n",
       "      <td>1</td>\n",
       "    </tr>\n",
       "    <tr>\n",
       "      <th>76</th>\n",
       "      <td>6.8</td>\n",
       "      <td>2.8</td>\n",
       "      <td>4.8</td>\n",
       "      <td>1.4</td>\n",
       "      <td>1</td>\n",
       "    </tr>\n",
       "    <tr>\n",
       "      <th>...</th>\n",
       "      <td>...</td>\n",
       "      <td>...</td>\n",
       "      <td>...</td>\n",
       "      <td>...</td>\n",
       "      <td>...</td>\n",
       "    </tr>\n",
       "    <tr>\n",
       "      <th>71</th>\n",
       "      <td>6.1</td>\n",
       "      <td>2.8</td>\n",
       "      <td>4.0</td>\n",
       "      <td>1.3</td>\n",
       "      <td>1</td>\n",
       "    </tr>\n",
       "    <tr>\n",
       "      <th>107</th>\n",
       "      <td>7.3</td>\n",
       "      <td>2.9</td>\n",
       "      <td>6.3</td>\n",
       "      <td>1.8</td>\n",
       "      <td>2</td>\n",
       "    </tr>\n",
       "    <tr>\n",
       "      <th>14</th>\n",
       "      <td>5.8</td>\n",
       "      <td>4.0</td>\n",
       "      <td>1.2</td>\n",
       "      <td>0.2</td>\n",
       "      <td>0</td>\n",
       "    </tr>\n",
       "    <tr>\n",
       "      <th>93</th>\n",
       "      <td>5.0</td>\n",
       "      <td>2.3</td>\n",
       "      <td>3.3</td>\n",
       "      <td>1.0</td>\n",
       "      <td>1</td>\n",
       "    </tr>\n",
       "    <tr>\n",
       "      <th>103</th>\n",
       "      <td>6.3</td>\n",
       "      <td>2.9</td>\n",
       "      <td>5.6</td>\n",
       "      <td>1.8</td>\n",
       "      <td>2</td>\n",
       "    </tr>\n",
       "  </tbody>\n",
       "</table>\n",
       "<p>149 rows × 5 columns</p>\n",
       "</div>"
      ],
      "text/plain": [
       "     sepal_length  sepal_width  petal_length  petal_width  species\n",
       "73            6.1          2.8           4.7          1.2        1\n",
       "18            5.7          3.8           1.7          0.3        0\n",
       "118           7.7          2.6           6.9          2.3        2\n",
       "78            6.0          2.9           4.5          1.5        1\n",
       "76            6.8          2.8           4.8          1.4        1\n",
       "..            ...          ...           ...          ...      ...\n",
       "71            6.1          2.8           4.0          1.3        1\n",
       "107           7.3          2.9           6.3          1.8        2\n",
       "14            5.8          4.0           1.2          0.2        0\n",
       "93            5.0          2.3           3.3          1.0        1\n",
       "103           6.3          2.9           5.6          1.8        2\n",
       "\n",
       "[149 rows x 5 columns]"
      ]
     },
     "execution_count": 272,
     "metadata": {},
     "output_type": "execute_result"
    }
   ],
   "source": [
    "iris_df = iris_df.sample(frac=1)\n",
    "iris_df"
   ]
  },
  {
   "cell_type": "markdown",
   "id": "4a82d796",
   "metadata": {},
   "source": [
    " * As depicted below, the scale of `petal_length` is almost three times that of `petal_width`.\n",
    " \n",
    " * This may influence the behaviour of our machine learning method, so we have to rescale them."
   ]
  },
  {
   "cell_type": "code",
   "execution_count": 273,
   "id": "20f36a77",
   "metadata": {},
   "outputs": [
    {
     "data": {
      "image/png": "[encoded data removed]",
      "text/plain": [
       "<Figure size 1008x432 with 2 Axes>"
      ]
     },
     "metadata": {},
     "output_type": "display_data"
    }
   ],
   "source": [
    "plt.style.use('ggplot') \n",
    "_ = iris_df[['petal_length', 'petal_width']].hist(bins=10, figsize=(14, 6))"
   ]
  },
  {
   "cell_type": "markdown",
   "id": "fc9401b1",
   "metadata": {},
   "source": [
    "## 3. Train a Classifier"
   ]
  },
  {
   "cell_type": "markdown",
   "id": "9b894f2b",
   "metadata": {},
   "source": [
    "* This can be easily done using StandardScaler.\n",
    "\n",
    "* `StandardScaler` scales the data so that they have mean 0 and variance equal to 1."
   ]
  },
  {
   "cell_type": "code",
   "execution_count": 274,
   "id": "5335f7ab",
   "metadata": {},
   "outputs": [],
   "source": [
    "from sklearn.preprocessing import StandardScaler\n",
    "\n",
    "scaler = StandardScaler()\n",
    "scaler.fit(iris_df[['petal_length', 'petal_width']])\n",
    "iris_df[['petal_length', 'petal_width']] = scaler.transform(iris_df[['petal_length', 'petal_width']])"
   ]
  },
  {
   "cell_type": "code",
   "execution_count": 275,
   "id": "02364dfb",
   "metadata": {},
   "outputs": [
    {
     "data": {
      "image/png": "[encoded data removed]",
      "text/plain": [
       "<Figure size 1008x432 with 2 Axes>"
      ]
     },
     "metadata": {},
     "output_type": "display_data"
    }
   ],
   "source": [
    "_ = iris_df[['petal_length', 'petal_width']].hist(bins=10, figsize=(14, 6))"
   ]
  },
  {
   "cell_type": "markdown",
   "id": "1439d65e",
   "metadata": {},
   "source": [
    "* We can, now, build our classifier.\n",
    "* To carry out the classification we will use the SGDClassifier.\n",
    "\n",
    "* SGD stands for Stochastic Gradient Descent. This is a numerical procedure to find the minimum of a function.\n",
    "\n",
    "* In our case it will find the minimum of the loss function, which measures how far every data instance is from the classification boundary."
   ]
  },
  {
   "cell_type": "markdown",
   "id": "a9e642ab",
   "metadata": {},
   "source": [
    "* Firstly, we will not use all our training data set to fit the classifier.\n",
    "\n",
    "* We would use a part of it for training, and a part of it to evaluate our classifier, so we do a split in training and testing dataset (80%/20%)."
   ]
  },
  {
   "cell_type": "code",
   "execution_count": 276,
   "id": "f9634173",
   "metadata": {},
   "outputs": [
    {
     "name": "stdout",
     "output_type": "stream",
     "text": [
      "(119, 2) (119,)\n"
     ]
    }
   ],
   "source": [
    "from sklearn.model_selection import train_test_split\n",
    "\n",
    "# Get dataset with only the first two attributes\n",
    "X, y = (iris_df[['petal_length', 'petal_width']].values, \n",
    "        iris_df['species'].values)\n",
    "\n",
    "# Split the dataset into a training and a testing set\n",
    "# Test set will be the 20% taken randomly\n",
    "X_train, X_test, y_train, y_test = train_test_split(X, y, test_size=0.20, \n",
    "                                                    random_state=13)\n",
    "\n",
    "print(X_train.shape, y_train.shape)"
   ]
  },
  {
   "cell_type": "markdown",
   "id": "e3d59d49",
   "metadata": {},
   "source": [
    "* Now we can train the classifier on the training set.\n",
    "* The hyperparameter alpha is the multiplier of the regularisation term; the higher it is, the stronger the regularization and the more the model parameters shrink to zero.\n",
    "\n",
    "* The hyperparameter tol determines how small the changes in the loss will have to be for a number of consecutive iterations (given by the hyperparameter n_iter_no_change, by default 5), in order for training to stop.\n",
    "\n",
    "* The hyperparameter max_iter gives the maximum number of iterations (regardless of the stopping criterion)."
   ]
  },
  {
   "cell_type": "code",
   "execution_count": 277,
   "id": "68109794",
   "metadata": {},
   "outputs": [
    {
     "data": {
      "text/plain": [
       "SGDClassifier(alpha=0.001, max_iter=100000.0, random_state=13, tol=-inf)"
      ]
     },
     "execution_count": 277,
     "metadata": {},
     "output_type": "execute_result"
    }
   ],
   "source": [
    "from sklearn.linear_model import SGDClassifier\n",
    "clf = SGDClassifier(alpha=0.001, max_iter=1e5, tol=-np.inf, random_state=13)\n",
    "clf.fit(X_train, y_train)"
   ]
  },
  {
   "cell_type": "markdown",
   "id": "1fde64cb",
   "metadata": {},
   "source": [
    "* The resulf of the classification is in the clf object.\n",
    "\n",
    "* Since we are trying to classify three classes, the clf object contains the information for the three lines that divide our data instances."
   ]
  },
  {
   "cell_type": "markdown",
   "id": "fa2763f7",
   "metadata": {},
   "source": [
    "## 4. Evaluate the Model"
   ]
  },
  {
   "cell_type": "markdown",
   "id": "794fe419",
   "metadata": {},
   "source": [
    "* We can plot the lines and see if they correspond to good decision boundaries."
   ]
  },
  {
   "cell_type": "code",
   "execution_count": 278,
   "id": "f6edf1df",
   "metadata": {},
   "outputs": [
    {
     "data": {
      "image/png": "[encoded data removed]",
      "text/plain": [
       "<Figure size 1152x720 with 3 Axes>"
      ]
     },
     "metadata": {},
     "output_type": "display_data"
    }
   ],
   "source": [
    "x_min, x_max = X_train[:, 0].min() - .5, X_train[:, 0].max() + .5 # petal length\n",
    "y_min, y_max = X_train[:, 1].min() - .5, X_train[:, 1].max() + .5 # petal width\n",
    "xs = np.arange(x_min, x_max, 0.5)\n",
    "fig, axes = plt.subplots(1, 3)\n",
    "fig.set_size_inches(16, 10)\n",
    "colors = \"bry\"\n",
    "\n",
    "for i in clf.classes_:\n",
    "    axes[i].set_aspect('equal')\n",
    "    axes[i].set_title('Class '+ iris.target_names[i] + ' versus the rest')\n",
    "    axes[i].set_xlabel('Petal length')\n",
    "    axes[i].set_ylabel('Petal width')\n",
    "    axes[i].set_xlim(x_min, x_max)\n",
    "    axes[i].set_ylim(y_min, y_max)\n",
    "    for j, color in zip(clf.classes_, colors):\n",
    "        idx = np.where(y == j)\n",
    "        axes[i].scatter(X[idx, 0], X[idx, 1], c=color, label=iris.target_names[j],\n",
    "                        cmap=plt.cm.Paired, s=10)\n",
    "    ys = (-clf.intercept_[i] - xs * clf.coef_[i, 0]) / clf.coef_[i, 1]\n",
    "    axes[i].plot(xs, ys)\n",
    "    axes[i].legend()"
   ]
  },
  {
   "cell_type": "markdown",
   "id": "63f396c7",
   "metadata": {},
   "source": [
    "As we can observe, the line that seperates the `versicolor` species from the rest is not good, in contrast with the lines for `setosa` and `virginica` that does it almost perfectly."
   ]
  },
  {
   "cell_type": "markdown",
   "id": "d45b076d",
   "metadata": {},
   "source": [
    "* To further evaluate our model we calculate the accuracy metric: the proportion of instances correctly classified by the classifier."
   ]
  },
  {
   "cell_type": "code",
   "execution_count": 279,
   "id": "74079daa",
   "metadata": {},
   "outputs": [
    {
     "data": {
      "text/plain": [
       "0.9747899159663865"
      ]
     },
     "execution_count": 279,
     "metadata": {},
     "output_type": "execute_result"
    }
   ],
   "source": [
    "from sklearn import metrics\n",
    "\n",
    "y_train_pred = clf.predict(X_train)\n",
    "metrics.accuracy_score(y_train, y_train_pred)"
   ]
  },
  {
   "cell_type": "markdown",
   "id": "cad1b00f",
   "metadata": {},
   "source": [
    "* Actually, we must not measure the performance of the classifier on the training data, but on unseen data, that's why we split earlier our dataset."
   ]
  },
  {
   "cell_type": "code",
   "execution_count": 280,
   "id": "ab291224",
   "metadata": {},
   "outputs": [
    {
     "data": {
      "text/plain": [
       "0.8333333333333334"
      ]
     },
     "execution_count": 280,
     "metadata": {},
     "output_type": "execute_result"
    }
   ],
   "source": [
    "y_pred = clf.predict(X_test)\n",
    "metrics.accuracy_score(y_test, y_pred)"
   ]
  },
  {
   "cell_type": "markdown",
   "id": "34383993",
   "metadata": {},
   "source": [
    "* The performance with the test data is lower, as expected, but still very good."
   ]
  },
  {
   "cell_type": "markdown",
   "id": "1b78b62b",
   "metadata": {},
   "source": [
    "* The most popular evaluation functions in scikit-learn are: accuracy, precision, recall, and F1 score."
   ]
  },
  {
   "cell_type": "code",
   "execution_count": 281,
   "id": "a824b170",
   "metadata": {},
   "outputs": [
    {
     "name": "stdout",
     "output_type": "stream",
     "text": [
      "              precision    recall  f1-score   support\n",
      "\n",
      "      setosa       0.93      1.00      0.96        13\n",
      "  versicolor       0.83      0.56      0.67         9\n",
      "   virginica       0.70      0.88      0.78         8\n",
      "\n",
      "    accuracy                           0.83        30\n",
      "   macro avg       0.82      0.81      0.80        30\n",
      "weighted avg       0.84      0.83      0.82        30\n",
      "\n"
     ]
    }
   ],
   "source": [
    "print(metrics.classification_report(y_test, y_pred, target_names=iris.target_names))"
   ]
  },
  {
   "cell_type": "markdown",
   "id": "17e83c99",
   "metadata": {},
   "source": [
    "* Below, we can see the confusion matrix, in which each cell  (𝑖,𝑗) contains the number of instances of class  𝑖\n",
    "  that were predicted to be in class  𝑗\n"
   ]
  },
  {
   "cell_type": "code",
   "execution_count": 282,
   "id": "7c94917a",
   "metadata": {},
   "outputs": [
    {
     "data": {
      "text/plain": [
       "array([[13,  0,  0],\n",
       "       [ 1,  5,  3],\n",
       "       [ 0,  1,  7]])"
      ]
     },
     "execution_count": 282,
     "metadata": {},
     "output_type": "execute_result"
    }
   ],
   "source": [
    "metrics.confusion_matrix(y_test, y_pred)"
   ]
  },
  {
   "cell_type": "markdown",
   "id": "8261c5b2",
   "metadata": {},
   "source": [
    "* Most of the wrong classifications came from the `versicolor` species, as expected since the line does not separate good enough."
   ]
  },
  {
   "cell_type": "markdown",
   "id": "d34908be",
   "metadata": {},
   "source": [
    "## 5. Store the Metric"
   ]
  },
  {
   "cell_type": "markdown",
   "id": "a85a2f9f",
   "metadata": {},
   "source": [
    "* Finally, we store our metrics in a csv file, so we can access them through a Flask Web App."
   ]
  },
  {
   "cell_type": "code",
   "execution_count": 283,
   "id": "fb663572",
   "metadata": {},
   "outputs": [
    {
     "data": {
      "text/html": [
       "<div>\n",
       "<style scoped>\n",
       "    .dataframe tbody tr th:only-of-type {\n",
       "        vertical-align: middle;\n",
       "    }\n",
       "\n",
       "    .dataframe tbody tr th {\n",
       "        vertical-align: top;\n",
       "    }\n",
       "\n",
       "    .dataframe thead th {\n",
       "        text-align: right;\n",
       "    }\n",
       "</style>\n",
       "<table border=\"1\" class=\"dataframe\">\n",
       "  <thead>\n",
       "    <tr style=\"text-align: right;\">\n",
       "      <th></th>\n",
       "      <th>0</th>\n",
       "      <th>1</th>\n",
       "      <th>2</th>\n",
       "      <th>accuracy</th>\n",
       "      <th>macro avg</th>\n",
       "      <th>weighted avg</th>\n",
       "    </tr>\n",
       "  </thead>\n",
       "  <tbody>\n",
       "    <tr>\n",
       "      <th>precision</th>\n",
       "      <td>0.928571</td>\n",
       "      <td>0.833333</td>\n",
       "      <td>0.700000</td>\n",
       "      <td>0.833333</td>\n",
       "      <td>0.820635</td>\n",
       "      <td>0.839048</td>\n",
       "    </tr>\n",
       "    <tr>\n",
       "      <th>recall</th>\n",
       "      <td>1.000000</td>\n",
       "      <td>0.555556</td>\n",
       "      <td>0.875000</td>\n",
       "      <td>0.833333</td>\n",
       "      <td>0.810185</td>\n",
       "      <td>0.833333</td>\n",
       "    </tr>\n",
       "    <tr>\n",
       "      <th>f1-score</th>\n",
       "      <td>0.962963</td>\n",
       "      <td>0.666667</td>\n",
       "      <td>0.777778</td>\n",
       "      <td>0.833333</td>\n",
       "      <td>0.802469</td>\n",
       "      <td>0.824691</td>\n",
       "    </tr>\n",
       "    <tr>\n",
       "      <th>support</th>\n",
       "      <td>13.000000</td>\n",
       "      <td>9.000000</td>\n",
       "      <td>8.000000</td>\n",
       "      <td>0.833333</td>\n",
       "      <td>30.000000</td>\n",
       "      <td>30.000000</td>\n",
       "    </tr>\n",
       "  </tbody>\n",
       "</table>\n",
       "</div>"
      ],
      "text/plain": [
       "                   0         1         2  accuracy  macro avg  weighted avg\n",
       "precision   0.928571  0.833333  0.700000  0.833333   0.820635      0.839048\n",
       "recall      1.000000  0.555556  0.875000  0.833333   0.810185      0.833333\n",
       "f1-score    0.962963  0.666667  0.777778  0.833333   0.802469      0.824691\n",
       "support    13.000000  9.000000  8.000000  0.833333  30.000000     30.000000"
      ]
     },
     "execution_count": 283,
     "metadata": {},
     "output_type": "execute_result"
    }
   ],
   "source": [
    "report_dict = metrics.classification_report(y_test, y_pred, output_dict=True)\n",
    "df_report = pd.DataFrame(report_dict)\n",
    "df_report"
   ]
  },
  {
   "cell_type": "code",
   "execution_count": 284,
   "id": "b2d4aca3",
   "metadata": {},
   "outputs": [
    {
     "data": {
      "text/html": [
       "<div>\n",
       "<style scoped>\n",
       "    .dataframe tbody tr th:only-of-type {\n",
       "        vertical-align: middle;\n",
       "    }\n",
       "\n",
       "    .dataframe tbody tr th {\n",
       "        vertical-align: top;\n",
       "    }\n",
       "\n",
       "    .dataframe thead th {\n",
       "        text-align: right;\n",
       "    }\n",
       "</style>\n",
       "<table border=\"1\" class=\"dataframe\">\n",
       "  <thead>\n",
       "    <tr style=\"text-align: right;\">\n",
       "      <th></th>\n",
       "      <th>setosa</th>\n",
       "      <th>versicolor</th>\n",
       "      <th>virginica</th>\n",
       "      <th>accuracy</th>\n",
       "      <th>macro avg</th>\n",
       "      <th>weighted avg</th>\n",
       "    </tr>\n",
       "  </thead>\n",
       "  <tbody>\n",
       "    <tr>\n",
       "      <th>precision</th>\n",
       "      <td>0.928571</td>\n",
       "      <td>0.833333</td>\n",
       "      <td>0.700000</td>\n",
       "      <td>0.833333</td>\n",
       "      <td>0.820635</td>\n",
       "      <td>0.839048</td>\n",
       "    </tr>\n",
       "    <tr>\n",
       "      <th>recall</th>\n",
       "      <td>1.000000</td>\n",
       "      <td>0.555556</td>\n",
       "      <td>0.875000</td>\n",
       "      <td>0.833333</td>\n",
       "      <td>0.810185</td>\n",
       "      <td>0.833333</td>\n",
       "    </tr>\n",
       "    <tr>\n",
       "      <th>f1-score</th>\n",
       "      <td>0.962963</td>\n",
       "      <td>0.666667</td>\n",
       "      <td>0.777778</td>\n",
       "      <td>0.833333</td>\n",
       "      <td>0.802469</td>\n",
       "      <td>0.824691</td>\n",
       "    </tr>\n",
       "    <tr>\n",
       "      <th>support</th>\n",
       "      <td>13.000000</td>\n",
       "      <td>9.000000</td>\n",
       "      <td>8.000000</td>\n",
       "      <td>0.833333</td>\n",
       "      <td>30.000000</td>\n",
       "      <td>30.000000</td>\n",
       "    </tr>\n",
       "  </tbody>\n",
       "</table>\n",
       "</div>"
      ],
      "text/plain": [
       "              setosa  versicolor  virginica  accuracy  macro avg  weighted avg\n",
       "precision   0.928571    0.833333   0.700000  0.833333   0.820635      0.839048\n",
       "recall      1.000000    0.555556   0.875000  0.833333   0.810185      0.833333\n",
       "f1-score    0.962963    0.666667   0.777778  0.833333   0.802469      0.824691\n",
       "support    13.000000    9.000000   8.000000  0.833333  30.000000     30.000000"
      ]
     },
     "execution_count": 284,
     "metadata": {},
     "output_type": "execute_result"
    }
   ],
   "source": [
    "df_report = df_report.rename(columns={'0': 'setosa', '1': 'versicolor', '2': 'virginica'})\n",
    "df_report"
   ]
  },
  {
   "cell_type": "code",
   "execution_count": 285,
   "id": "496da93d",
   "metadata": {},
   "outputs": [],
   "source": [
    "df_report.to_csv('report_data.csv', index=True)"
   ]
  }
 ],
 "metadata": {
  "kernelspec": {
   "display_name": "Python 3",
   "language": "python",
   "name": "python3"
  },
  "language_info": {
   "codemirror_mode": {
    "name": "ipython",
    "version": 3
   },
   "file_extension": ".py",
   "mimetype": "text/x-python",
   "name": "python",
   "nbconvert_exporter": "python",
   "pygments_lexer": "ipython3",
   "version": "3.8.5"
  }
 },
 "nbformat": 4,
 "nbformat_minor": 5
}
